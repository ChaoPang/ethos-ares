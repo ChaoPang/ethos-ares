{
 "cells": [
  {
   "cell_type": "code",
   "execution_count": null,
   "id": "0",
   "metadata": {},
   "outputs": [],
   "source": [
    "%load_ext autoreload\n",
    "%autoreload 2\n",
    "\n",
    "import polars as pl\n",
    "\n",
    "from ethos.constants import PROJECT_ROOT\n",
    "from ethos.constants import SpecialToken as ST\n",
    "from ethos.datasets.base import InferenceDataset\n",
    "from ethos.inference.constants import Task\n",
    "from ethos.inference.utils import get_dataset_cls\n",
    "\n",
    "input_dir = PROJECT_ROOT / \"data/tokenized_datasets/mimic_ed\"\n",
    "output_dir = PROJECT_ROOT / \"data/ed_task_labels\""
   ]
  },
  {
   "cell_type": "code",
   "execution_count": null,
   "id": "1",
   "metadata": {},
   "outputs": [],
   "source": [
    "import time\n",
    "from typing import Generator\n",
    "\n",
    "from tqdm import tqdm\n",
    "\n",
    "\n",
    "def iter_dataset(dataset: InferenceDataset) -> Generator[dict, None, None]:\n",
    "    for _, y in tqdm(dataset):\n",
    "        yield y\n",
    "\n",
    "\n",
    "def retrieve_labels(\n",
    "    dataset: InferenceDataset, boolean_value_expr: pl.Expr | None = None\n",
    ") -> pl.DataFrame:\n",
    "    df = (\n",
    "        pl.from_dicts(iter_dataset(dataset))\n",
    "        .lazy()\n",
    "        .with_columns(\n",
    "            pl.col(\"patient_id\").alias(\"subject_id\"),\n",
    "            pl.col(\"data_idx\")\n",
    "            .map_elements(lambda v: dataset.times[v], return_dtype=pl.Int64)\n",
    "            .cast(pl.Datetime)\n",
    "            .alias(\"time\"),\n",
    "            pl.col(\"expected\").alias(\"boolean_value\"),\n",
    "            pl.col(\"true_token_time\").cast(pl.Duration),\n",
    "        )\n",
    "    )\n",
    "    if boolean_value_expr is not None:\n",
    "        df = df.with_columns(boolean_value=boolean_value_expr)\n",
    "    else:\n",
    "        df = df.with_columns(pl.col(\"expected\").cast(pl.Boolean).alias(\"boolean_value\"))\n",
    "    return df.select(\"subject_id\", \"time\", \"boolean_value\").collect()\n",
    "\n",
    "\n",
    "def dump_labels(\n",
    "    task: Task, output_fn: str | None = None, boolean_value_expr: pl.Expr | None = None\n",
    ") -> None:\n",
    "\n",
    "    if output_fn is None:\n",
    "        output_fn = str(task)\n",
    "    output_fp = output_dir / f\"{output_fn}.parquet\"\n",
    "\n",
    "    if output_fp.exists():\n",
    "        print(f\"Output file {output_fp} already exists, skipping.\")\n",
    "        return\n",
    "\n",
    "    processed_datasets = []\n",
    "    for fold in (\"test\", \"train\"):\n",
    "        t = time.time()\n",
    "        dataset = get_dataset_cls(task)(input_dir / fold)\n",
    "        print(f\"Time taken to init {fold} dataset: {time.time() - t:.2f}s\")\n",
    "        processed_datasets.append(\n",
    "            retrieve_labels(dataset, boolean_value_expr).with_columns(fold=pl.lit(fold))\n",
    "        )\n",
    "\n",
    "    output_dir.mkdir(parents=True, exist_ok=True)\n",
    "    pl.concat(processed_datasets).write_parquet(output_fp, use_pyarrow=True)"
   ]
  },
  {
   "cell_type": "code",
   "execution_count": null,
   "id": "2",
   "metadata": {},
   "outputs": [],
   "source": [
    "dump_labels(Task.ED_HOSPITALIZATION)"
   ]
  },
  {
   "cell_type": "code",
   "execution_count": null,
   "id": "3",
   "metadata": {},
   "outputs": [],
   "source": [
    "dump_labels(\n",
    "    Task.ED_CRITICAL_OUTCOME,\n",
    "    boolean_value_expr=pl.col(\"expected\").is_in([ST.ICU_ADMISSION, ST.DEATH])\n",
    "    & (pl.col(\"true_token_time\") <= pl.duration(hours=12)),\n",
    ")"
   ]
  },
  {
   "cell_type": "code",
   "execution_count": null,
   "id": "4",
   "metadata": {},
   "outputs": [],
   "source": [
    "dump_labels(\n",
    "    Task.ED_REPRESENTATION,\n",
    "    boolean_value_expr=pl.col(\"boolean_value\")\n",
    "    & (pl.col(\"true_token_time\") <= pl.duration(hours=72)),\n",
    ")"
   ]
  },
  {
   "cell_type": "code",
   "execution_count": null,
   "id": "5",
   "metadata": {},
   "outputs": [],
   "source": [
    "prolonged_stay_cutoff = pl.duration(days=10)\n",
    "dump_labels(\n",
    "    Task.HOSPITAL_MORTALITY,\n",
    "    output_fn=\"prolonged_stay\",\n",
    "    boolean_value_expr=pl.col(\"true_token_time\") >= prolonged_stay_cutoff,\n",
    ")"
   ]
  },
  {
   "cell_type": "code",
   "execution_count": null,
   "id": "6",
   "metadata": {},
   "outputs": [],
   "source": [
    "from ethos.constants import SpecialToken as ST\n",
    "\n",
    "dump_labels(\n",
    "    Task.HOSPITAL_MORTALITY,\n",
    "    boolean_value_expr=pl.col(\"boolean_value\") == ST.DEATH,\n",
    ")"
   ]
  },
  {
   "cell_type": "code",
   "execution_count": null,
   "id": "7",
   "metadata": {},
   "outputs": [],
   "source": [
    "from ethos.constants import SpecialToken as ST\n",
    "\n",
    "dump_labels(\n",
    "    Task.ICU_ADMISSION,\n",
    "    boolean_value_expr=pl.col(\"boolean_value\").is_in([ST.ICU_ADMISSION]),\n",
    ")"
   ]
  },
  {
   "cell_type": "code",
   "execution_count": null,
   "id": "8",
   "metadata": {},
   "outputs": [],
   "source": [
    "from ethos.constants import SpecialToken as ST\n",
    "\n",
    "dump_labels(\n",
    "    Task.ICU_ADMISSION,\n",
    "    output_fn=\"composite\",\n",
    "    boolean_value_expr=pl.col(\"boolean_value\").is_in([ST.ICU_ADMISSION, ST.DEATH])\n",
    "    | (pl.col(\"true_token_time\") >= prolonged_stay_cutoff),\n",
    ")"
   ]
  },
  {
   "cell_type": "markdown",
   "id": "9",
   "metadata": {},
   "source": [
    "### Task Prevalence"
   ]
  },
  {
   "cell_type": "code",
   "execution_count": null,
   "id": "10",
   "metadata": {},
   "outputs": [],
   "source": [
    "pl.concat(\n",
    "    [\n",
    "        (\n",
    "            pl.scan_parquet(output_fp)\n",
    "            .group_by(\"fold\")\n",
    "            .agg(pl.mean(\"boolean_value\"))\n",
    "            .collect()\n",
    "            .with_columns(task=pl.lit(output_fp.stem))\n",
    "        )\n",
    "        for output_fp in output_dir.iterdir()\n",
    "    ]\n",
    ").pivot(\"fold\", index=\"task\", values=\"boolean_value\").sort(\"task\")"
   ]
  }
 ],
 "metadata": {
  "kernelspec": {
   "display_name": "Python 3",
   "language": "python",
   "name": "python3"
  },
  "language_info": {
   "codemirror_mode": {
    "name": "ipython",
    "version": 2
   },
   "file_extension": ".py",
   "mimetype": "text/x-python",
   "name": "python",
   "nbconvert_exporter": "python",
   "pygments_lexer": "ipython2",
   "version": "2.7.6"
  }
 },
 "nbformat": 4,
 "nbformat_minor": 5
}
