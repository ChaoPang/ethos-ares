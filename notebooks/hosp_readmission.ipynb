{
 "cells": [
  {
   "cell_type": "code",
   "execution_count": null,
   "metadata": {},
   "outputs": [],
   "source": [
    "%load_ext autoreload\n",
    "%autoreload 2\n",
    "\n",
    "from pathlib import Path\n",
    "\n",
    "import polars as pl\n",
    "from matplotlib import pyplot as plt\n",
    "\n",
    "from ethos.constants import PROJECT_ROOT\n",
    "from ethos.constants import SpecialToken as ST\n",
    "from ethos.inference.constants import Task\n",
    "from ethos.metrics import compute_and_print_metrics, preprocess_inference_results\n",
    "from ethos.utils import get_mimic_hf_patients\n",
    "\n",
    "# Requires original MIMIC-IV 2.2 dataset that we do not provide\n",
    "result_dir = PROJECT_ROOT / \"results\" / Task.READMISSION\n",
    "heart_failure_cohort = get_mimic_hf_patients(PROJECT_ROOT / \"data/mimic-2.2\")"
   ]
  },
  {
   "cell_type": "code",
   "execution_count": null,
   "metadata": {},
   "outputs": [],
   "source": [
    "def compute_readmission_results(input_dir: Path, outcome_tokens: list[str]) -> pl.DataFrame:\n",
    "    # outcome_tokens = [str(st) for st in outcome_tokens]\n",
    "    return preprocess_inference_results(\n",
    "        input_dir,\n",
    "        actual_expr=pl.col(\"actual\").is_in(outcome_tokens),\n",
    "        expected_expr=(\n",
    "            pl.col(\"expected\").is_in(outcome_tokens)\n",
    "            & (pl.col(\"true_token_time\") <= pl.duration(days=30))\n",
    "        ),\n",
    "    )\n",
    "\n",
    "\n",
    "def evaluate_readmission_results(input_dir: Path) -> dict:\n",
    "    df = compute_readmission_results(input_dir, outcome_tokens=[ST.ADMISSION, ST.DEATH])\n",
    "\n",
    "    fig = plt.figure(figsize=(16, 5))\n",
    "    rep_num = df[\"counts\"].mean()\n",
    "    fig.suptitle(f\"30-Day Readmission (rep_num={rep_num:.2f})\\n{input_dir.name}\")\n",
    "\n",
    "    plt.subplot(1, 3, 1)\n",
    "    res_full = compute_and_print_metrics(df[\"expected\"], df[\"actual\"], \"Full\")\n",
    "\n",
    "    # Here, we leave samples where the history (gt) spans for 30 days\n",
    "    reduced_df = df.filter(\n",
    "        (pl.col(\"expected\") == 1)\n",
    "        | ((pl.col(\"expected\") == 0) & (pl.col(\"true_token_time\") >= pl.duration(days=30)))\n",
    "    )\n",
    "    plt.subplot(1, 3, 2)\n",
    "    res_reduced = compute_and_print_metrics(reduced_df[\"expected\"], reduced_df[\"actual\"], \"Reduced\")\n",
    "\n",
    "    plt.subplot(1, 3, 3)\n",
    "    hearth_failure_df = df.filter(pl.col(\"patient_id\").is_in(heart_failure_cohort))\n",
    "    res_hf = compute_and_print_metrics(\n",
    "        hearth_failure_df[\"expected\"], hearth_failure_df[\"actual\"], \"HF patients\"\n",
    "    )\n",
    "\n",
    "    return {\n",
    "        \"name\": input_dir.name,\n",
    "        \"auc_full\": res_full[\"fitted_auc\"],\n",
    "        \"auc_reduced\": res_reduced[\"fitted_auc\"],\n",
    "        \"auc_hf\": res_hf[\"fitted_auc\"],\n",
    "        \"rep_num\": rep_num,\n",
    "    }"
   ]
  },
  {
   "cell_type": "code",
   "execution_count": null,
   "metadata": {},
   "outputs": [],
   "source": [
    "readmission_results = []\n",
    "for result_fp in result_dir.iterdir():\n",
    "    readmission_results.append(evaluate_readmission_results(result_fp))\n",
    "    plt.tight_layout()\n",
    "readmission_results = pl.from_dicts(readmission_results).sort(\"auc_reduced\", descending=True)"
   ]
  },
  {
   "cell_type": "code",
   "execution_count": null,
   "metadata": {},
   "outputs": [],
   "source": [
    "readmission_results.sort(\"auc_full\", descending=True)"
   ]
  }
 ],
 "metadata": {
  "kernelspec": {
   "display_name": "Python 3 (ipykernel)",
   "language": "python",
   "name": "python3"
  },
  "language_info": {
   "codemirror_mode": {
    "name": "ipython",
    "version": 3
   },
   "file_extension": ".py",
   "mimetype": "text/x-python",
   "name": "python",
   "nbconvert_exporter": "python",
   "pygments_lexer": "ipython3",
   "version": "3.10.11"
  }
 },
 "nbformat": 4,
 "nbformat_minor": 1
}
