{
 "cells": [
  {
   "cell_type": "markdown",
   "metadata": {},
   "source": [
    "# Admission Mortality - Inpatient and ICU"
   ]
  },
  {
   "cell_type": "code",
   "execution_count": null,
   "metadata": {},
   "outputs": [],
   "source": [
    "%load_ext autoreload\n",
    "%autoreload 2\n",
    "\n",
    "import matplotlib.pyplot as plt\n",
    "import polars as pl\n",
    "\n",
    "from ethos.constants import PROJECT_ROOT\n",
    "from ethos.constants import SpecialToken as ST\n",
    "from ethos.inference.constants import Reason, Task\n",
    "from ethos.metrics import compute_and_print_metrics, preprocess_inference_results\n",
    "from ethos.utils import get_mimic_hf_patients, get_mimic_sepsis_icu_stays\n",
    "\n",
    "# Requires original MIMIC-IV 2.2 dataset that we do not provide\n",
    "mimic_sepsis = get_mimic_sepsis_icu_stays()\n",
    "heart_failure_cohort = get_mimic_hf_patients(PROJECT_ROOT / \"data/mimic-2.2\")"
   ]
  },
  {
   "cell_type": "markdown",
   "metadata": {},
   "source": [
    "# MIMIC"
   ]
  },
  {
   "cell_type": "code",
   "execution_count": null,
   "metadata": {},
   "outputs": [],
   "source": [
    "results_dir = PROJECT_ROOT / \"results\"\n",
    "hosp_mort_result_dir = results_dir / Task.HOSPITAL_MORTALITY\n",
    "\n",
    "\n",
    "def preprocess_hosp_mortality_results(input_dir) -> pl.DataFrame:\n",
    "    return preprocess_inference_results(\n",
    "        input_dir,\n",
    "        actual_expr=pl.col(\"actual\") == ST.DEATH,\n",
    "        expected_expr=pl.col(\"expected\") == ST.DEATH,\n",
    "        filter_ambiguous=(\n",
    "            pl.col(\"actual\").is_in([ST.DEATH, ST.DISCHARGE])\n",
    "            & (pl.col(\"stop_reason\") == Reason.GOT_TOKEN)\n",
    "        ),\n",
    "    )"
   ]
  },
  {
   "cell_type": "markdown",
   "metadata": {},
   "source": [
    "## Hospital Mortality"
   ]
  },
  {
   "cell_type": "code",
   "execution_count": null,
   "metadata": {},
   "outputs": [],
   "source": [
    "hospital_mortality_results = []\n",
    "for result_fp in hosp_mort_result_dir.iterdir():\n",
    "    df = preprocess_hosp_mortality_results(result_fp)\n",
    "    rep_num = df[\"counts\"].mean()\n",
    "    plt.figure(figsize=(10, 5))\n",
    "    plt.suptitle(f\"Hospital Mortality\\n{result_fp.name} (rep_num={rep_num:.2f})\")\n",
    "    plt.subplot(1, 2, 1)\n",
    "    res_full = compute_and_print_metrics(df[\"expected\"], df[\"actual\"], \"Full\")\n",
    "\n",
    "    plt.subplot(1, 2, 2)\n",
    "    hf_df = df.filter(pl.col(\"patient_id\").is_in(heart_failure_cohort))\n",
    "    res_hf = compute_and_print_metrics(hf_df[\"expected\"], hf_df[\"actual\"], \"HF patients\")\n",
    "\n",
    "    hospital_mortality_results.append(\n",
    "        {\n",
    "            \"name\": result_fp.name,\n",
    "            \"auc\": res_full[\"fitted_auc\"],\n",
    "            \"auc_hf\": res_hf[\"fitted_auc\"],\n",
    "            \"rep_num\": rep_num,\n",
    "        }\n",
    "    )\n",
    "    plt.tight_layout()\n",
    "    plt.show()\n",
    "hospital_mortality_results = pl.from_dicts(hospital_mortality_results).sort(\"auc\", descending=True)"
   ]
  },
  {
   "cell_type": "code",
   "execution_count": null,
   "metadata": {},
   "outputs": [],
   "source": [
    "hospital_mortality_results"
   ]
  }
 ],
 "metadata": {
  "kernelspec": {
   "display_name": "Python 3",
   "language": "python",
   "name": "python3"
  },
  "language_info": {
   "codemirror_mode": {
    "name": "ipython",
    "version": 2
   },
   "file_extension": ".py",
   "mimetype": "text/x-python",
   "name": "python",
   "nbconvert_exporter": "python",
   "pygments_lexer": "ipython2",
   "version": "2.7.6"
  }
 },
 "nbformat": 4,
 "nbformat_minor": 0
}
