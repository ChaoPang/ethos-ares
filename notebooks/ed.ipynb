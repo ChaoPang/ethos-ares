{
 "cells": [
  {
   "cell_type": "code",
   "execution_count": null,
   "id": "0",
   "metadata": {},
   "outputs": [],
   "source": [
    "%load_ext autoreload\n",
    "%autoreload 2\n",
    "\n",
    "import polars as pl\n",
    "from matplotlib import pyplot as plt\n",
    "\n",
    "from ethos.constants import PROJECT_ROOT\n",
    "from ethos.constants import SpecialToken as ST\n",
    "from ethos.inference.constants import Task\n",
    "from ethos.metrics import compute_and_print_metrics, preprocess_inference_results\n",
    "\n",
    "result_dir = PROJECT_ROOT / \"results\""
   ]
  },
  {
   "cell_type": "markdown",
   "id": "1",
   "metadata": {},
   "source": [
    "## Hospitalization Predicted at Triage"
   ]
  },
  {
   "cell_type": "code",
   "execution_count": null,
   "id": "2",
   "metadata": {},
   "outputs": [],
   "source": [
    "for result_fp in (result_dir / Task.ED_HOSPITALIZATION).iterdir():\n",
    "    df = preprocess_inference_results(\n",
    "        result_fp,\n",
    "        actual_expr=(pl.col(\"actual\") == ST.ADMISSION)\n",
    "        & (pl.col(\"token_time\") <= pl.duration(days=3)),\n",
    "    )\n",
    "    compute_and_print_metrics(\n",
    "        df[\"expected\"],\n",
    "        df[\"actual\"],\n",
    "        f\"Prediction of Hospitalization at Triage (rep_num={df['counts'].mean():.2f})\\n{result_fp.name}\",\n",
    "    )\n",
    "    plt.show()"
   ]
  },
  {
   "cell_type": "markdown",
   "id": "3",
   "metadata": {},
   "source": [
    "## Critical Outcome Within 12h Predicted at Triage"
   ]
  },
  {
   "cell_type": "code",
   "execution_count": null,
   "id": "4",
   "metadata": {},
   "outputs": [],
   "source": [
    "for result_fp in (result_dir / Task.ED_CRITICAL_OUTCOME).iterdir():\n",
    "    df = preprocess_inference_results(\n",
    "        result_fp,\n",
    "        actual_expr=pl.col(\"actual\").is_in([ST.ICU_ADMISSION, ST.DEATH]),\n",
    "        expected_expr=pl.col(\"expected\").is_in([ST.ICU_ADMISSION, ST.DEATH])\n",
    "        & (pl.col(\"true_token_time\") <= pl.duration(hours=12)),\n",
    "    )\n",
    "    compute_and_print_metrics(\n",
    "        df[\"expected\"],\n",
    "        df[\"actual\"],\n",
    "        \"Prediction of Critical Outcome within 12h at Triage \"\n",
    "        f\"(rep_num={df['counts'].mean():.2f})\\n{result_fp.name}\",\n",
    "    )\n",
    "    plt.show()"
   ]
  },
  {
   "cell_type": "markdown",
   "id": "5",
   "metadata": {},
   "source": [
    "## Emergency Department Representation Within 72h Predicted at Triage"
   ]
  },
  {
   "cell_type": "code",
   "execution_count": null,
   "id": "6",
   "metadata": {},
   "outputs": [],
   "source": [
    "for result_fp in (result_dir / Task.ED_REPRESENTATION).iterdir():\n",
    "    df = preprocess_inference_results(\n",
    "        result_fp,\n",
    "        actual_expr=pl.col(\"actual\").is_in([ST.ED_ADMISSION]),\n",
    "        expected_expr=pl.col(\"expected\") & (pl.col(\"true_token_time\") <= pl.duration(hours=72)),\n",
    "    )\n",
    "    compute_and_print_metrics(\n",
    "        df[\"expected\"],\n",
    "        df[\"actual\"],\n",
    "        \"Prediction of ED representation within 72h \"\n",
    "        f\"(rep_num={df['counts'].mean():.2f})\\n{result_fp.name}\",\n",
    "    )\n",
    "    plt.show()"
   ]
  }
 ],
 "metadata": {
  "kernelspec": {
   "display_name": "Python 3",
   "language": "python",
   "name": "python3"
  },
  "language_info": {
   "codemirror_mode": {
    "name": "ipython",
    "version": 2
   },
   "file_extension": ".py",
   "mimetype": "text/x-python",
   "name": "python",
   "nbconvert_exporter": "python",
   "pygments_lexer": "ipython2",
   "version": "2.7.6"
  }
 },
 "nbformat": 4,
 "nbformat_minor": 5
}
