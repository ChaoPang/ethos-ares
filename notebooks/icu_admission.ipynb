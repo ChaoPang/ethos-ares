{
 "cells": [
  {
   "cell_type": "code",
   "execution_count": null,
   "metadata": {
    "tags": []
   },
   "outputs": [],
   "source": [
    "%load_ext autoreload\n",
    "%autoreload 2\n",
    "\n",
    "import matplotlib.pyplot as plt\n",
    "import polars as pl\n",
    "\n",
    "from ethos.constants import PROJECT_ROOT\n",
    "from ethos.constants import SpecialToken as ST\n",
    "from ethos.inference.constants import Reason, Task\n",
    "from ethos.metrics import compute_and_print_metrics, preprocess_inference_results\n",
    "\n",
    "results_dir = PROJECT_ROOT / \"results\""
   ]
  },
  {
   "cell_type": "markdown",
   "metadata": {},
   "source": [
    "## ICU Admission results"
   ]
  },
  {
   "cell_type": "code",
   "execution_count": null,
   "metadata": {},
   "outputs": [],
   "source": [
    "def process_icu_admission_results(input_dir, **kwargs) -> pl.DataFrame:\n",
    "    return preprocess_inference_results(\n",
    "        input_dir,\n",
    "        actual_expr=pl.col(\"actual\").is_in([ST.DEATH, ST.ICU_ADMISSION]),\n",
    "        expected_expr=pl.col(\"expected\").is_in([ST.DEATH, ST.ICU_ADMISSION]),\n",
    "        filter_ambiguous=pl.col(\"stop_reason\") == Reason.GOT_TOKEN,\n",
    "        **kwargs,\n",
    "    )"
   ]
  },
  {
   "cell_type": "code",
   "execution_count": null,
   "metadata": {},
   "outputs": [],
   "source": [
    "icu_admission_results = []\n",
    "for input_dir in (results_dir / Task.ICU_ADMISSION).iterdir():\n",
    "    df = process_icu_admission_results(input_dir)\n",
    "    rep_num = df[\"counts\"].mean()\n",
    "    res = compute_and_print_metrics(\n",
    "        df[\"expected\"],\n",
    "        df[\"actual\"],\n",
    "        f\"ICU Admission (rep_num={rep_num:.2f})\\n{input_dir.name}\",\n",
    "    )\n",
    "    icu_admission_results.append(\n",
    "        {\n",
    "            \"name\": input_dir.name,\n",
    "            \"auc\": res[\"fitted_auc\"],\n",
    "            \"rep_num\": rep_num,\n",
    "        }\n",
    "    )\n",
    "    plt.show()\n",
    "icu_admission_results = pl.DataFrame(icu_admission_results).sort(\"auc\", descending=True)"
   ]
  },
  {
   "cell_type": "code",
   "execution_count": null,
   "metadata": {},
   "outputs": [],
   "source": [
    "icu_admission_results"
   ]
  }
 ],
 "metadata": {
  "kernelspec": {
   "display_name": "Python 3 (ipykernel)",
   "language": "python",
   "name": "python3"
  },
  "language_info": {
   "codemirror_mode": {
    "name": "ipython",
    "version": 3
   },
   "file_extension": ".py",
   "mimetype": "text/x-python",
   "name": "python",
   "nbconvert_exporter": "python",
   "pygments_lexer": "ipython3",
   "version": "3.10.11"
  }
 },
 "nbformat": 4,
 "nbformat_minor": 1
}
